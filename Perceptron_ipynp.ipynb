{
  "nbformat": 4,
  "nbformat_minor": 0,
  "metadata": {
    "colab": {
      "provenance": [],
      "authorship_tag": "ABX9TyPDZYNmWDFoo29RQtySti++",
      "include_colab_link": true
    },
    "kernelspec": {
      "name": "python3",
      "display_name": "Python 3"
    },
    "language_info": {
      "name": "python"
    }
  },
  "cells": [
    {
      "cell_type": "markdown",
      "metadata": {
        "id": "view-in-github",
        "colab_type": "text"
      },
      "source": [
        "<a href=\"https://colab.research.google.com/github/ggc3379/Branch-Repository/blob/main/Perceptron_ipynp.ipynb\" target=\"_parent\"><img src=\"https://colab.research.google.com/assets/colab-badge.svg\" alt=\"Open In Colab\"/></a>"
      ]
    },
    {
      "cell_type": "code",
      "execution_count": 9,
      "metadata": {
        "colab": {
          "base_uri": "https://localhost:8080/"
        },
        "id": "nU7jEP7yvHZn",
        "outputId": "a252e81b-6187-4d23-b6c3-04b0c9b0ba92"
      },
      "outputs": [
        {
          "output_type": "stream",
          "name": "stdout",
          "text": [
            "0 0.5283388495445251\n",
            "1000 0.5283388495445251\n",
            "2000 0.5283388495445251\n",
            "3000 0.5283388495445251\n",
            "4000 0.5283388495445251\n",
            "5000 0.5283388495445251\n",
            "6000 0.5283388495445251\n",
            "7000 0.5283388495445251\n",
            "8000 0.5283388495445251\n",
            "9000 0.5283388495445251\n",
            "10000 0.5283388495445251\n",
            "11000 0.5283388495445251\n",
            "12000 0.5283388495445251\n",
            "13000 0.5283388495445251\n",
            "14000 0.5283388495445251\n",
            "15000 0.5283388495445251\n",
            "16000 0.5283388495445251\n",
            "17000 0.5283388495445251\n",
            "18000 0.5283388495445251\n",
            "19000 0.5283388495445251\n",
            "20000 0.5283388495445251\n"
          ]
        }
      ],
      "source": [
        "import torch\n",
        "import torch.nn as nn\n",
        "\n",
        "device ='cude' if torch.cuda.is_available() else 'cpu'\n",
        "\n",
        "\n",
        "X = torch.FloatTensor([[0,0],[0,1],[1,0],[1,1]]).to(device)\n",
        "Y = torch.FloatTensor([[0],[1],[1],[1]]).to(device)\n",
        "\n",
        "model = nn.Sequential(nn.Linear(2 , 1, bias=True),nn.Sigmoid()).to(device)\n",
        "loss_func = torch.nn.BCELoss().to(device)\n",
        "optimizer = torch.optim.SGD(model.parameters(),lr = 0.01)\n",
        "\n",
        "\n",
        "for step in range(20001):\n",
        "    optimizer.zero_grad()\n",
        "\n",
        "    Y_hat = model(X)\n",
        "    loss = loss_func(Y_hat,Y)\n",
        "    loss.backward()\n",
        "    optimizer.step\n",
        "    \n",
        "    if step %1000 ==0:\n",
        "        print(step, loss.item())\n",
        "\n",
        "\n",
        "\n"
      ]
    },
    {
      "cell_type": "code",
      "source": [
        "with torch.no_grad():\n",
        "    model.eval()\n",
        "    inputs = torch.FloatTensor([[0,0],[0,1],[1,0],[1,1]]).to(device)\n",
        "    outputs = model(inputs)\n",
        "    print(outputs)\n",
        "    print(outputs > 0.5)"
      ],
      "metadata": {
        "colab": {
          "base_uri": "https://localhost:8080/"
        },
        "id": "T2jEHcia2VLo",
        "outputId": "d4a93ff9-7394-4f52-b553-3ebe55396570"
      },
      "execution_count": 10,
      "outputs": [
        {
          "output_type": "stream",
          "name": "stdout",
          "text": [
            "tensor([[0.4874],\n",
            "        [0.5859],\n",
            "        [0.5901],\n",
            "        [0.6818]])\n",
            "tensor([[False],\n",
            "        [ True],\n",
            "        [ True],\n",
            "        [ True]])\n"
          ]
        }
      ]
    }
  ]
}